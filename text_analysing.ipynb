{
 "cells": [
  {
   "cell_type": "code",
   "execution_count": 1,
   "metadata": {},
   "outputs": [],
   "source": [
    "from preparation import process_caption_index_helper, invoke_emotion_to_dataset"
   ]
  },
  {
   "cell_type": "code",
   "execution_count": 2,
   "metadata": {},
   "outputs": [],
   "source": [
    "# mongo_dump_path = './dataset/dump/040219.json'\n",
    "# path = './dataset/caption_bc.json'\n",
    "# flickr_folder = './dataset/flickr10k'\n",
    "# coco_folder = './dataset/mscoco'\n",
    "# save_path = './dataset/cache/caption_index.helper'\n",
    "# image_id_to_idx = process_caption_index_helper(path, flickr_folder, coco_folder, save_path)\n",
    "# caption = invoke_emotion_to_dataset(mongo_dump_path,image_id_to_idx, flickr_folder, 'flickr', 'angry')"
   ]
  },
  {
   "cell_type": "code",
   "execution_count": 3,
   "metadata": {},
   "outputs": [
    {
     "data": {
      "text/plain": [
       "9000"
      ]
     },
     "execution_count": 3,
     "metadata": {},
     "output_type": "execute_result"
    }
   ],
   "source": [
    "from preparation import convert_mongo, split_and_save, load_caption\n",
    "\n",
    "path = './dataset'\n",
    "flickr_folder = path + '/flickr10k'\n",
    "coco_folder = path + '/mscoco'\n",
    "\n",
    "# # convert mongo to caption dict\n",
    "# caption_flickr, caption_coco = convert_mongo(path=path + '/caption_bc.json')\n",
    "\n",
    "# # save\n",
    "# with open(flickr_folder + '/caption.json', 'w') as f:\n",
    "#     json.dump(caption_flickr, f)\n",
    "# with open(coco_folder + '/caption.json', 'w') as f:\n",
    "#     json.dump(caption_coco, f)\n",
    "\n",
    "# split_and_save(caption_flickr, flickr_folder)\n",
    "# split_and_save(caption_coco, coco_folder)\n",
    "\n",
    "train, val = load_caption(flickr_folder)\n",
    "filenames_train, captions_train = train\n",
    "filenames_val, captions_val = val\n",
    "num_images_train = len(filenames_train)\n",
    "num_images_train"
   ]
  },
  {
   "cell_type": "code",
   "execution_count": 4,
   "metadata": {},
   "outputs": [
    {
     "name": "stderr",
     "output_type": "stream",
     "text": [
      "Using TensorFlow backend.\n"
     ]
    }
   ],
   "source": [
    "from tokenizer import mark_captions, flatten, TokenizerWrap, mark_start, mark_end"
   ]
  },
  {
   "cell_type": "code",
   "execution_count": 76,
   "metadata": {},
   "outputs": [
    {
     "name": "stdout",
     "output_type": "stream",
     "text": [
      "CPU times: user 3.59 s, sys: 36 ms, total: 3.62 s\n",
      "Wall time: 3.66 s\n"
     ]
    }
   ],
   "source": [
    "%%time\n",
    "num_words = 10000\n",
    "modes = ['happy', 'sad', 'angry']\n",
    "captions_train_flat_all = []\n",
    "for mode in ['factual'] + modes:\n",
    "    captions_train_marked = mark_captions(captions_train[mode])\n",
    "    captions_train_flat = flatten(captions_train_marked)\n",
    "    tokenizer = TokenizerWrap(texts=captions_train_flat,num_words=num_words)\n",
    "    # remove oov words\n",
    "    tmp = tokenizer.texts_to_sequences(captions_train_flat)\n",
    "    captions_train_flat = tokenizer.sequences_to_texts(tmp)\n",
    "    captions_train_flat_all.extend(captions_train_flat)\n",
    "tokenizer = TokenizerWrap(texts=captions_train_flat_all)"
   ]
  },
  {
   "cell_type": "code",
   "execution_count": 71,
   "metadata": {},
   "outputs": [
    {
     "name": "stdout",
     "output_type": "stream",
     "text": [
      "CPU times: user 739 ms, sys: 15 ms, total: 754 ms\n",
      "Wall time: 762 ms\n"
     ]
    }
   ],
   "source": [
    "%%time\n",
    "captions_train_marked = mark_captions(captions_train['factual'])\n",
    "captions_train_flat = flatten(captions_train_marked)\n",
    "tokens_train = tokenizer.captions_to_tokens(captions_train_marked)"
   ]
  },
  {
   "cell_type": "code",
   "execution_count": 88,
   "metadata": {},
   "outputs": [],
   "source": [
    "last = len(tokenizer.word_index)"
   ]
  },
  {
   "cell_type": "code",
   "execution_count": 89,
   "metadata": {},
   "outputs": [
    {
     "data": {
      "text/plain": [
       "'sendal'"
      ]
     },
     "execution_count": 89,
     "metadata": {},
     "output_type": "execute_result"
    }
   ],
   "source": [
    "tokenizer.index_to_word[last]"
   ]
  },
  {
   "cell_type": "code",
   "execution_count": null,
   "metadata": {},
   "outputs": [],
   "source": []
  }
 ],
 "metadata": {
  "kernelspec": {
   "display_name": "Python 3",
   "language": "python",
   "name": "python3"
  },
  "language_info": {
   "codemirror_mode": {
    "name": "ipython",
    "version": 3
   },
   "file_extension": ".py",
   "mimetype": "text/x-python",
   "name": "python",
   "nbconvert_exporter": "python",
   "pygments_lexer": "ipython3",
   "version": "3.6.7"
  }
 },
 "nbformat": 4,
 "nbformat_minor": 2
}
